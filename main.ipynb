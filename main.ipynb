{
 "cells": [
  {
   "cell_type": "code",
   "execution_count": 1,
   "id": "49561bd7",
   "metadata": {},
   "outputs": [],
   "source": [
    "# Import necessary libraries\n",
    "import pandas as pd\n",
    "import ast\n",
    "from datetime import datetime\n",
    "import numpy as np\n",
    "import plotly.graph_objects as go\n",
    "import plotly.io as pio"
   ]
  },
  {
   "cell_type": "code",
   "execution_count": 2,
   "id": "b01ef4c2",
   "metadata": {},
   "outputs": [],
   "source": [
    "# Set Plotly renderer to display interactive plots\n",
    "pio.renderers.default = 'iframe_connected'"
   ]
  },
  {
   "cell_type": "code",
   "execution_count": 3,
   "id": "936ee5ab",
   "metadata": {},
   "outputs": [],
   "source": [
    "# Load metadata CSV file into a DataFrame\n",
    "metadata_path = \"cleaned_dataset/metadata.csv\"\n",
    "metadata_df = pd.read_csv(metadata_path)"
   ]
  },
  {
   "cell_type": "code",
   "execution_count": 4,
   "id": "c9f4529c",
   "metadata": {},
   "outputs": [],
   "source": [
    "# Print available column names in the dataset\n",
    "print(metadata_df.columns)\n"
   ]
  },
  {
   "cell_type": "code",
   "execution_count": 5,
   "id": "c65d0b37",
   "metadata": {},
   "outputs": [],
   "source": [
    "# Filter the metadata to extract impedance data\n",
    "impedance_data = metadata_df[metadata_df['type'] == 'impedance'][['start_time', 'Re', 'Rct', 'battery_id']]"
   ]
  },
  {
   "cell_type": "code",
   "execution_count": 6,
   "id": "f3d820d9",
   "metadata": {},
   "outputs": [],
   "source": [
    "# Extract file details for impedance-related data\n",
    "file_details = metadata_df[metadata_df['type'] == 'impedance'][['start_time', 'filename', 'battery_id']]\n"
   ]
  },
  {
   "cell_type": "code",
   "execution_count": 7,
   "id": "732b4a7b",
   "metadata": {},
   "outputs": [],
   "source": [
    "# Function to parse 'start_time' column into proper datetime objects\n",
    "def convert_start_time(value):\n",
    "    try:\n",
    "        if isinstance(value, str):  # Ensure the value is a string\n",
    "            value = value.strip(\"[]\").replace(\",\", \"\")  # Clean the string format\n",
    "            components = [float(x) for x in value.split()]  # Split and convert to floats\n",
    "            if len(components) == 6:  # Ensure the time has 6 components\n",
    "                year, month, day, hour, minute = map(int, components[:5])\n",
    "                second = int(components[5])\n",
    "                return datetime(year, month, day, hour, minute, second)\n",
    "    except (ValueError, SyntaxError, TypeError):  # Handle parsing errors\n",
    "        return pd.NaT  # Return 'Not a Time' for invalid entries\n",
    "    return pd.NaT"
   ]
  },
  {
   "cell_type": "code",
   "execution_count": 8,
   "id": "9a21cc2d",
   "metadata": {},
   "outputs": [],
   "source": [
    "# Apply the conversion function to start_time in both DataFrames\n",
    "file_details['start_time'] = file_details['start_time'].apply(convert_start_time)\n",
    "impedance_data['start_time'] = impedance_data['start_time'].apply(convert_start_time)\n"
   ]
  },
  {
   "cell_type": "code",
   "execution_count": 9,
   "id": "0096b970",
   "metadata": {},
   "outputs": [],
   "source": [
    "# Drop invalid rows and sort the data by start_time\n",
    "impedance_data = impedance_data.dropna(subset=['start_time']).sort_values(by='start_time')\n",
    "file_details = file_details.dropna(subset=['start_time']).sort_values(by='start_time')\n"
   ]
  },
  {
   "cell_type": "code",
   "execution_count": 10,
   "id": "3c2bcc38",
   "metadata": {},
   "outputs": [],
   "source": [
    "# Display unique battery IDs available in impedance data\n",
    "print(impedance_data['battery_id'].unique())"
   ]
  },
  {
   "cell_type": "code",
   "execution_count": 11,
   "id": "e3a348e7",
   "metadata": {},
   "outputs": [],
   "source": [
    "# Plot 'Re' and 'Rct' resistance values for each battery\n",
    "for battery in impedance_data['battery_id'].unique():\n",
    "    battery_subset = impedance_data[impedance_data['battery_id'] == battery]  # Filter data for the current battery\n",
    "    \n",
    "    # Create a line plot for Re and Rct values\n",
    "    fig = go.Figure()\n",
    "    fig.add_trace(go.Scatter(\n",
    "        x=battery_subset['start_time'], \n",
    "        y=battery_subset['Re'], \n",
    "        mode='lines', \n",
    "        name='Re (Ohms)',\n",
    "        line=dict(color='green')\n",
    "    ))\n",
    "    fig.add_trace(go.Scatter(\n",
    "        x=battery_subset['start_time'], \n",
    "        y=battery_subset['Rct'], \n",
    "        mode='lines', \n",
    "        name='Rct (Ohms)',\n",
    "        line=dict(color='blue')\n",
    "    ))\n",
    "    \n",
    "    # Update layout with title and axis labels\n",
    "    fig.update_layout(\n",
    "        title=f\"Resistance Over Time (Battery ID: {battery})\",\n",
    "        xaxis_title=\"Start Time\",\n",
    "        yaxis_title=\"Resistance (Ohms)\",\n",
    "        xaxis=dict(tickangle=45),\n",
    "        legend_title=\"Legend\",\n",
    "        template=\"plotly\"\n",
    "    )\n",
    "    fig.show()\n"
   ]
  },
  {
   "cell_type": "code",
   "execution_count": 12,
   "id": "caa368e3",
   "metadata": {},
   "outputs": [],
   "source": [
    "# Initialize dictionary to store battery impedance details\n",
    "battery_impedance_info = {}\n"
   ]
  },
  {
   "cell_type": "code",
   "execution_count": 13,
   "id": "67d28140",
   "metadata": {},
   "outputs": [],
   "source": [
    "# Process each row in the file details DataFrame\n",
    "for idx, row in file_details.iterrows():\n",
    "    battery_id = row['battery_id']  # Extract battery ID\n",
    "    filename = row['filename']      # Extract file name\n",
    "    start_time = row['start_time']  # Extract start time\n",
    "    \n",
    "    # Construct the full file path\n",
    "    file_path = f\"cleaned_dataset/data/{filename}\"\n",
    "    \n",
    "    try:\n",
    "        # Load the data file for the current battery\n",
    "        data = pd.read_csv(file_path)\n",
    "        \n",
    "        # Check if 'Battery_impedance' column exists\n",
    "        if 'Battery_impedance' in data.columns:\n",
    "            # Extract the real part of impedance values\n",
    "            impedance_values = data['Battery_impedance'].apply(lambda x: complex(x).real)\n",
    "            avg_impedance = impedance_values.mean()  # Calculate the average impedance\n",
    "            \n",
    "            # Update dictionary with the battery's impedance data\n",
    "            if battery_id not in battery_impedance_info:\n",
    "                battery_impedance_info[battery_id] = {'start_time': [], 'battery_impedance': []}\n",
    "            battery_impedance_info[battery_id]['start_time'].append(start_time)\n",
    "            battery_impedance_info[battery_id]['battery_impedance'].append(avg_impedance)\n",
    "        else:\n",
    "            print(f\"Column 'Battery_impedance' not found in file: {filename}\")\n",
    "    except Exception as e:\n",
    "        # Handle file loading errors\n",
    "        print(f\"Error occurred while processing {filename}: {e}\")\n"
   ]
  },
  {
   "cell_type": "code",
   "execution_count": 14,
   "id": "38fe7932",
   "metadata": {},
   "outputs": [],
   "source": [
    "# Plot average battery impedance over time for each battery\n",
    "for battery, impedance_data in battery_impedance_info.items():\n",
    "    fig = go.Figure()\n",
    "    fig.add_trace(go.Scatter(\n",
    "        x=impedance_data['start_time'],\n",
    "        y=impedance_data['battery_impedance'],\n",
    "        mode='lines',\n",
    "        name=f'Battery {battery}'\n",
    "    ))\n",
    "    \n",
    "    # Update layout with proper titles and labels\n",
    "    fig.update_layout(\n",
    "        title=f\"Average Impedance Over Time (Battery ID: {battery})\",\n",
    "        xaxis_title=\"Start Time\",\n",
    "        yaxis_title=\"Battery Impedance (Ohms)\",\n",
    "        xaxis=dict(tickangle=45),\n",
    "        template='plotly'\n",
    "    )\n",
    "    fig.show()"
   ]
  },
  {
   "cell_type": "code",
   "execution_count": null,
   "id": "04e0d3d1",
   "metadata": {},
   "outputs": [],
   "source": []
  }
 ],
 "metadata": {
  "kernelspec": {
   "display_name": "Python 3 (ipykernel)",
   "language": "python",
   "name": "python3"
  },
  "language_info": {
   "codemirror_mode": {
    "name": "ipython",
    "version": 3
   },
   "file_extension": ".py",
   "mimetype": "text/x-python",
   "name": "python",
   "nbconvert_exporter": "python",
   "pygments_lexer": "ipython3",
   "version": "3.9.13"
  }
 },
 "nbformat": 4,
 "nbformat_minor": 5
}
